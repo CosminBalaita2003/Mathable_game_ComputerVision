{
 "cells": [
  {
   "cell_type": "code",
   "execution_count": 35,
   "id": "initial_id",
   "metadata": {
    "ExecuteTime": {
     "end_time": "2024-12-03T11:35:59.254249Z",
     "start_time": "2024-12-03T11:35:59.237679Z"
    },
    "collapsed": true,
    "editable": true,
    "jupyter": {
     "outputs_hidden": true
    },
    "slideshow": {
     "slide_type": ""
    },
    "tags": []
   },
   "outputs": [],
   "source": [
    "import cv2 as cv\n",
    "import numpy as np\n",
    "import os\n",
    "\n",
    "\n",
    "\n"
   ]
  },
  {
   "cell_type": "code",
   "execution_count": 36,
   "id": "da89af17d85d23ef",
   "metadata": {
    "ExecuteTime": {
     "end_time": "2024-12-03T11:35:59.300602Z",
     "start_time": "2024-12-03T11:35:59.277717Z"
    }
   },
   "outputs": [],
   "source": [
    "path_folder_joc=\"../../../antrenare\"\n",
    "path_backgroud=\"../../../imagini_auxiliare/01.jpg\"\n",
    "path_solutie=\"341_Balaita_Cosmin\""
   ]
  },
  {
   "cell_type": "code",
   "execution_count": 37,
   "id": "e69fdced0a644dd8",
   "metadata": {
    "ExecuteTime": {
     "end_time": "2024-12-03T11:35:59.347409Z",
     "start_time": "2024-12-03T11:35:59.336021Z"
    }
   },
   "outputs": [],
   "source": [
    "def show_image(title,image):\n",
    "    cv.imshow(title,image)\n",
    "    cv.waitKey(0)\n",
    "    cv.destroyAllWindows()"
   ]
  },
  {
   "cell_type": "markdown",
   "id": "e663b4eab4c4120f",
   "metadata": {},
   "source": [
    "Extragere Tabla de joc de pe masa\n"
   ]
  },
  {
   "cell_type": "code",
   "execution_count": 38,
   "id": "582daeaebd15fbc6",
   "metadata": {
    "ExecuteTime": {
     "end_time": "2024-12-03T11:35:59.410837Z",
     "start_time": "2024-12-03T11:35:59.382755Z"
    }
   },
   "outputs": [],
   "source": [
    "def extrage_tabla(image):\n",
    "    image= cv.cvtColor(image,cv.COLOR_BGR2HSV) #convertim imaginea in hsv pentru a putea extrage tabla de joc\n",
    "    h,s,v = cv.split(image)\n",
    "\n",
    "    image_sharp = cv.medianBlur(h,3)\n",
    "    image_blur = cv.GaussianBlur(image_sharp, (0, 0), 5)\n",
    "    image_sharp=cv.addWeighted(image_sharp, 1.5, image_blur, -0.5, 0)\n",
    "    _,thresh = cv.threshold(image_sharp, 30, 255, cv.THRESH_BINARY)\n",
    "    kernel = np.ones((3,3),np.uint8)\n",
    "    tresh = cv.erode(thresh,kernel)\n",
    "    edges = cv.Canny(thresh,300,400)\n",
    "\n",
    "    contours, _ = cv.findContours(edges, cv.RETR_EXTERNAL, cv.CHAIN_APPROX_SIMPLE) #extragem contururile\n",
    "    max_area = 0 #initializam aria maxima\n",
    "\n",
    "    for contour in contours:\n",
    "        if len(contour) > 3: #daca conturul are mai mult de 3 puncte (un patrat)\n",
    "            pos_top_left = None\n",
    "            pos_bottom_right = None\n",
    "            for point in contour.squeeze(): #extragem cele 4 puncte ale patratului\n",
    "                if pos_top_left is None or point[0] + point[1] < pos_top_left[0] + pos_top_left[1]: #\n",
    "                    pos_top_left = point\n",
    "                if pos_bottom_right is None or point[0] + point[1] > pos_bottom_right[0] + pos_bottom_right[1]:\n",
    "                    pos_bottom_right = point\n",
    "            diff = np.diff(contour.squeeze(),axis=1) #diferenta dintre coordonatele x si y\n",
    "            pos_top_right = contour.squeeze()[np.argmin(diff)] #extragem coordonatele punctului din dreapta sus\n",
    "            pos_bottom_left = contour.squeeze()[np.argmax(diff)] #extragem coordonatele punctului din stanga jos\n",
    "\n",
    "            polygon = np.array([pos_top_left,pos_top_right,pos_bottom_right,pos_bottom_left],dtype=\"float32\") #creem un poligon cu cele 4 puncte\n",
    "            area = cv.contourArea(polygon) #calculam aria poligonului\n",
    "            if area > max_area:\n",
    "                max_area = area\n",
    "                top_left = pos_top_left\n",
    "                bottom_right = pos_bottom_right\n",
    "                top_right = pos_top_right\n",
    "                bottom_left = pos_bottom_left\n",
    "\n",
    "    width = 810\n",
    "    height = 810\n",
    "    puzzle = np.array([top_left,top_right,bottom_right,bottom_left],dtype=\"float32\") #creem un poligon cu cele 4 puncte\n",
    "    destination = np.array([[0,0],[width,0],[width,height],[0,height]],dtype=\"float32\")\n",
    "    M= cv.getPerspectiveTransform(puzzle,destination) #calculam matricea de transformare\n",
    "    warped = cv.warpPerspective(image,M,(width,height)) #aplicam transformarea\n",
    "    result = cv.cvtColor(warped,cv.COLOR_HSV2BGR) #convertim imaginea in BGR\n",
    "\n",
    "    return result"
   ]
  },
  {
   "cell_type": "markdown",
   "id": "a16f608e88126e6a",
   "metadata": {},
   "source": [
    "Extragere Careu interior"
   ]
  },
  {
   "cell_type": "code",
   "execution_count": 39,
   "id": "8ec9d51cbde79b15",
   "metadata": {
    "ExecuteTime": {
     "end_time": "2024-12-03T11:35:59.457624Z",
     "start_time": "2024-12-03T11:35:59.446552Z"
    }
   },
   "outputs": [],
   "source": [
    "def extrage_careu_interior(tabla):\n",
    "    height, width, _ = tabla.shape #extragem dimensiunile imaginii\n",
    "    margin_top = int(height * 0.129)\n",
    "    margin_bottom = int(height * 0.129)\n",
    "    margin_left = int(width * 0.132)\n",
    "    margin_right = int(width * 0.132)\n",
    "\n",
    "    grid = tabla[margin_top:height - margin_bottom, margin_left:width - margin_right] #decupam zona centrala a tablei\n",
    "    return grid"
   ]
  },
  {
   "cell_type": "markdown",
   "id": "c7bf1934ffcb2778",
   "metadata": {},
   "source": [
    "Extragere linii verticale si orizontale"
   ]
  },
  {
   "cell_type": "code",
   "execution_count": 40,
   "id": "6f548201254b3813",
   "metadata": {
    "ExecuteTime": {
     "end_time": "2024-12-03T11:35:59.519234Z",
     "start_time": "2024-12-03T11:35:59.494627Z"
    }
   },
   "outputs": [],
   "source": [
    "def extrage_linii_verticale_si_orizontale(image): #\n",
    "    height, width, _ = image.shape\n",
    "    linii_verticale=[] #lista in care vom salva coordonatele liniilor verticale\n",
    "    linii_orizontale=[] #lista in care vom salva coordonatele liniilor orizontale\n",
    "    cell_height = height / 14\n",
    "    cell_width = width / 14\n",
    "    for i in range(15): #pentru liniile orizontale\n",
    "        y = round(i * cell_height) #calculam coordonata y a liniei\n",
    "        linii_orizontale.append([(0, y), (width, y)]) #adaugam coordonatele liniei in lista\n",
    "        cv.line(image, (0, y), (width, y), (0, 0, 255), 2) #desenam linia pe imagine\n",
    "\n",
    "    for i in range(15): #pentru liniile verticale\n",
    "        x = round(i * cell_width) #calculam coordonata x a liniei\n",
    "        linii_verticale.append([(x, 0), (x, height)]) #adaugam coordonatele liniei in lista\n",
    "        cv.line(image, (x, 0), (x, height), (0, 0, 255), 2) #desenam linia pe imagine\n",
    "\n",
    "\n",
    "\n",
    "    return image,linii_verticale, linii_orizontale\n",
    "\n"
   ]
  },
  {
   "cell_type": "markdown",
   "id": "25e1cc46841d41db",
   "metadata": {},
   "source": [
    "Determinarea configuratiei careului"
   ]
  },
  {
   "cell_type": "code",
   "execution_count": 41,
   "id": "e97b0415626557f9",
   "metadata": {
    "ExecuteTime": {
     "end_time": "2024-12-03T11:35:59.580064Z",
     "start_time": "2024-12-03T11:35:59.554218Z"
    }
   },
   "outputs": [],
   "source": [
    "def determina_configuratie_careu(tresh,orizontal,vertical):\n",
    "    matrix = np.empty((14,14), dtype='str')\n",
    "    for i in range(len(orizontal)-1):\n",
    "        for j in range(len(vertical)-1):\n",
    "            y_min = orizontal[j][0][1] + 20\n",
    "            y_max = orizontal[j + 1][1][1] - 20\n",
    "            x_min = vertical[i][0][0] + 20\n",
    "            x_max = vertical[i + 1][1][0] - 20\n",
    "            cell = tresh[y_min:y_max, x_min:x_max]\n",
    "            if np.mean(cell) > 0:\n",
    "                matrix[j][i] = '1'\n",
    "            else:\n",
    "                matrix[j][i] = '0'\n",
    "    return matrix\n"
   ]
  },
  {
   "cell_type": "markdown",
   "id": "8deae4f3680ca9f9",
   "metadata": {},
   "source": [
    "Vizualizare pozitii sperciale de pe tabla"
   ]
  },
  {
   "cell_type": "code",
   "execution_count": 42,
   "id": "7071210753355a18",
   "metadata": {
    "ExecuteTime": {
     "end_time": "2024-12-03T11:35:59.626989Z",
     "start_time": "2024-12-03T11:35:59.615800Z"
    }
   },
   "outputs": [],
   "source": [
    "def vizualizare_conf(result,matrix,oriz,vert):\n",
    "    for i in range(len(oriz) - 1):\n",
    "        for j in range(len(vert) - 1):\n",
    "            y_min = vert[j][0][0]\n",
    "            y_max = vert[j + 1][1][0]\n",
    "            x_min = oriz[i][0][1]\n",
    "            x_max = oriz[i + 1][1][1]\n",
    "            if matrix[i][j] == '1':\n",
    "                cv.rectangle(result, (x_min, y_min), (x_max, y_max), (0, 255, 0), 3)"
   ]
  },
  {
   "cell_type": "markdown",
   "id": "73add3f0ba0639d4",
   "metadata": {},
   "source": [
    "Diferenta intre doua imagini pentru a determina pe ce pozitie apare o piesa noua\n"
   ]
  },
  {
   "cell_type": "code",
   "execution_count": 43,
   "id": "6ad58caed796db16",
   "metadata": {
    "ExecuteTime": {
     "end_time": "2024-12-03T11:35:59.674371Z",
     "start_time": "2024-12-03T11:35:59.661697Z"
    }
   },
   "outputs": [],
   "source": [
    "def diff_img(imagine_veche, imagine_noua):\n",
    "\n",
    "    imagine_veche = cv.cvtColor(imagine_veche, cv.COLOR_BGR2HSV)\n",
    "    imagine_noua= cv.cvtColor(imagine_noua, cv.COLOR_BGR2HSV)\n",
    "    h1,s1,v1=cv.split(imagine_veche)\n",
    "    h2,s2,v2 = cv.split(imagine_noua)\n",
    "\n",
    "    dif3=cv.absdiff(v1,v2) #diferenta dintre cele 2 imagini pe canalul\n",
    "    #show_image(\"dif3\",dif3)\n",
    "    _, diff = cv.threshold(dif3, 117, 255, cv.THRESH_BINARY)\n",
    "\n",
    "    kernel = np.ones((3,3),np.uint8)\n",
    "    diff= cv.erode(diff,kernel) #erodam imaginea pentru a elimina zgomotul\n",
    "\n",
    "    diff=cv.dilate(diff,kernel) #dilatam imaginea pentru a face piesele mai vizibile\n",
    "\n",
    "    #show_image(\"diff\",diff)\n",
    "    return diff\n",
    "\n"
   ]
  },
  {
   "cell_type": "markdown",
   "id": "de8341f323b17da5",
   "metadata": {},
   "source": [
    "Determinare pozitie piesa noua"
   ]
  },
  {
   "cell_type": "code",
   "execution_count": 44,
   "id": "bead6b4b6788d32d",
   "metadata": {
    "ExecuteTime": {
     "end_time": "2024-12-03T11:35:59.736528Z",
     "start_time": "2024-12-03T11:35:59.709915Z"
    }
   },
   "outputs": [],
   "source": [
    "def determina_pozitie_piesa_noua(imagine_veche, imagine_noua):\n",
    "    diff = diff_img(imagine_veche, imagine_noua)\n",
    "    _, binary_diff = cv.threshold(diff, 127, 255, cv.THRESH_BINARY)\n",
    "    num_labels, labels_im = cv.connectedComponents(binary_diff) #extragem componentele conexe\n",
    "    max_pixels = 0\n",
    "    max_label = 0\n",
    "\n",
    "    for label in range(1, num_labels): #parcurgem componentele conexe\n",
    "        pixel_count = np.sum(labels_im == label) #calculam numarul de pixeli din componenta\n",
    "        if pixel_count > max_pixels: #daca numarul de pixeli este mai mare decat cel maxim\n",
    "            max_pixels = pixel_count #actualizam numarul maxim de pixeli\n",
    "            max_label = label #actualizam label-ul maxim\n",
    "\n",
    "    if max_label != 0: #daca am gasit o componenta conexa\n",
    "        largest_component_mask = (labels_im == max_label).astype(np.uint8) * 255 #extragem masca componentei\n",
    "        contours, _ = cv.findContours(largest_component_mask, cv.RETR_EXTERNAL, cv.CHAIN_APPROX_SIMPLE) #extragem conturul componentei\n",
    "\n",
    "        if contours:\n",
    "            cnt = contours[0] #extragem primul contur\n",
    "            x, y, w, h = cv.boundingRect(cnt) #extragem dreptunghiul incadrator al conturului\n",
    "            cv.rectangle(imagine_noua, (x, y), (x + w, y + h), (0, 255, 0), 2) #desenam dreptunghiul incadrator pe imagine\n",
    "\n",
    "            return x + w // 2, y + h // 2, w, h #returnam coordonatele centrului dreptunghiului incadrator si dimensiunile acestuia\n",
    "\n",
    "    return None\n"
   ]
  },
  {
   "cell_type": "markdown",
   "id": "999f3bd1d77a7ee3",
   "metadata": {},
   "source": [
    "Potrivire pozitie cu matricea careului\n"
   ]
  },
  {
   "cell_type": "code",
   "execution_count": 45,
   "id": "81ecb19f2e17a14b",
   "metadata": {
    "ExecuteTime": {
     "end_time": "2024-12-03T11:35:59.783035Z",
     "start_time": "2024-12-03T11:35:59.773140Z"
    }
   },
   "outputs": [],
   "source": [
    "def match_position(x,y,oriz,vert):\n",
    "    for i in range(len(oriz)-1):\n",
    "        if oriz[i][0][1] < y < oriz[i+1][1][1]: #daca y se afla intre coordonatele liniilor orizontale\n",
    "            for j in range(len(vert)-1):\n",
    "                if vert[j][0][0] < x < vert[j+1][1][0] : #daca x se afla intre coordonatele liniilor verticale\n",
    "                    return i,j\n",
    "    return -1,-1"
   ]
  },
  {
   "cell_type": "markdown",
   "id": "202b5e0d6493bcf7",
   "metadata": {},
   "source": [
    "Extrage piesa"
   ]
  },
  {
   "cell_type": "code",
   "execution_count": 46,
   "id": "14c5c055cc72cba2",
   "metadata": {
    "ExecuteTime": {
     "end_time": "2024-12-03T11:35:59.828302Z",
     "start_time": "2024-12-03T11:35:59.818035Z"
    }
   },
   "outputs": [],
   "source": [
    "def extrage_piesa (i,j,img):\n",
    "\n",
    "    piece = img[oriz[i][0][1]:oriz[i+1][1][1]+1,vert[j][0][0]:vert[j+1][1][0]] #extragem piesa din imagine\n",
    "    #show_image(\"piesa\",piece)\n",
    "\n",
    "    return piece\n",
    "\n"
   ]
  },
  {
   "cell_type": "code",
   "execution_count": 47,
   "id": "d82dd8cc32bdf047",
   "metadata": {
    "ExecuteTime": {
     "end_time": "2024-12-03T11:35:59.889453Z",
     "start_time": "2024-12-03T11:35:59.878133Z"
    }
   },
   "outputs": [],
   "source": [
    "def classify_patch(patch):\n",
    "    patch_grey=cv.cvtColor(patch,cv.COLOR_BGR2GRAY)\n",
    "    #show_image(\"patch\",patch_grey)\n",
    "    patch_grey=cv.equalizeHist(patch_grey)\n",
    "    #show_image(\"patch\",patch_grey)\n",
    "    _,tresh=cv.threshold(patch_grey,140,255,cv.THRESH_BINARY)\n",
    "    #show_image(\"patch\",tresh)\n",
    "    #mareste patch-ul cu 20%\n",
    "\n",
    "    max_match=0\n",
    "    detected=None\n",
    "    folder=\"templates\"\n",
    "\n",
    "    for filename in os.listdir(folder):\n",
    "        if filename.endswith(\".jpg\") or filename.endswith(\".png\") or filename.endswith(\".jpeg\"):\n",
    "            img=cv.imread(os.path.join(folder,filename))\n",
    "            img_grey=cv.cvtColor(img,cv.COLOR_BGR2GRAY)\n",
    "            img_grey=cv.equalizeHist(img_grey)\n",
    "            _,img_grey=cv.threshold(img_grey,140,255,cv.THRESH_BINARY)\n",
    "\n",
    "\n",
    "            #accentueaza contururile\n",
    "            #img_grey=cv.addWeighted(img_grey,1.5,img_grey,-0.5,0)\n",
    "            res=cv.matchTemplate(patch_grey,img_grey,cv.TM_CCORR_NORMED)\n",
    "            min_val,max_val,min_loc,max_loc=cv.minMaxLoc(res)\n",
    "            if max_val>max_match:\n",
    "                max_match=max_val\n",
    "                detected=filename.split(\".\")[0]\n",
    "\n",
    "    return detected\n"
   ]
  },
  {
   "cell_type": "markdown",
   "id": "221abea6a10c7aa1",
   "metadata": {},
   "source": []
  },
  {
   "cell_type": "code",
   "execution_count": 48,
   "id": "f470c1a77578cfd3",
   "metadata": {
    "ExecuteTime": {
     "end_time": "2024-12-03T11:35:59.968743Z",
     "start_time": "2024-12-03T11:35:59.934360Z"
    }
   },
   "outputs": [],
   "source": [
    "def calculeaza_scor(ture,moves,matrice_tabla,conf_speciala):\n",
    "    scoruri=[]\n",
    "    fplayer,fstart=ture[-1]\n",
    "    for i in range(len(ture)):\n",
    "        player,start = ture[i]\n",
    "        if player == fplayer and start == fstart:\n",
    "            stop=50\n",
    "        else:\n",
    "            stop=int(ture[i+1][1])\n",
    "\n",
    "\n",
    "        scor=0\n",
    "        nr=0\n",
    "        for i in range(stop-int(start)):\n",
    "            poz,piesa=moves[int(start)].split()\n",
    "            #print(poz,piesa)\n",
    "            #i=toate caracterele din poz mai putin ultimul, j= ultimul caracter\n",
    "            i,j=poz[:-1],poz[-1]\n",
    "            i=int(i)-1\n",
    "            j=ord(j)-ord('A')\n",
    "            #print (i,j)\n",
    "            matrice_tabla[i][j]=int(piesa)\n",
    "            if j - 2 >= 0 and j - 1 >= 0:  # Ensure indices are valid\n",
    "                if piesa == matrice_tabla[i][j-2] + matrice_tabla[i][j-1] or piesa == matrice_tabla[i][j-2] * matrice_tabla[i][j-1] or piesa == abs(matrice_tabla[i][j-2] - matrice_tabla[i][j-1]) or piesa == max(matrice_tabla[i][j-2], matrice_tabla[i][j-1]) // max(min(matrice_tabla[i][j-2], matrice_tabla[i][j-1]), 1):\n",
    "                    nr += 1\n",
    "\n",
    "            if i - 2 >= 0 and i - 1 >= 0:  # Ensure indices are valid\n",
    "                if piesa == matrice_tabla[i-2][j] + matrice_tabla[i-1][j] or piesa == matrice_tabla[i-2][j] * matrice_tabla[i-1][j] or piesa == abs(matrice_tabla[i-2][j] - matrice_tabla[i-1][j]) or piesa == max(matrice_tabla[i-2][j], matrice_tabla[i-1][j]) // max(min(matrice_tabla[i-2][j], matrice_tabla[i-1][j]), 1):\n",
    "                    nr += 1\n",
    "\n",
    "            if i + 2 < 14 and i + 1 < 14:  # Ensure indices are valid\n",
    "                if piesa == matrice_tabla[i+2][j] + matrice_tabla[i+1][j] or piesa == matrice_tabla[i+2][j] * matrice_tabla[i+1][j] or piesa == abs(matrice_tabla[i+2][j] - matrice_tabla[i+1][j]) or piesa == max(matrice_tabla[i+2][j], matrice_tabla[i+1][j]) // max(min(matrice_tabla[i+2][j], matrice_tabla[i+1][j]), 1):\n",
    "                    nr += 1\n",
    "\n",
    "            if j + 2 < 14 and j + 1 < 14:  # Ensure indices are valid\n",
    "                if piesa == matrice_tabla[i][j+2] + matrice_tabla[i][j+1] or piesa == matrice_tabla[i][j+2] * matrice_tabla[i][j+1] or piesa == abs(matrice_tabla[i][j+2] - matrice_tabla[i][j+1]) or piesa == max(matrice_tabla[i][j+2], matrice_tabla[i][j+1]) // max(min(matrice_tabla[i][j+2], matrice_tabla[i][j+1]), 1):\n",
    "                    nr += 1\n",
    "\n",
    "\n",
    "\n",
    "            scor+=int(piesa)*conf_speciala[i][j]\n",
    "            scor*=max(nr,1)\n",
    "        scoruri.append((player,start,scor))\n",
    "\n",
    "\n",
    "    return scoruri\n",
    "\n"
   ]
  },
  {
   "cell_type": "code",
   "execution_count": 49,
   "id": "65317e3be30ced29",
   "metadata": {
    "ExecuteTime": {
     "end_time": "2024-12-03T11:36:00.593593Z",
     "start_time": "2024-12-03T11:36:00.005025Z"
    }
   },
   "outputs": [],
   "source": [
    "background = cv.imread(path_backgroud)\n",
    "tabla = extrage_tabla(background)\n",
    "tabla = cv.resize(tabla,(810,810))\n",
    "careu_interior=extrage_careu_interior(tabla)\n",
    "cv.imwrite(\"careu_interior.jpg\",careu_interior)\n",
    "linii, vert, oriz = extrage_linii_verticale_si_orizontale(careu_interior)"
   ]
  },
  {
   "cell_type": "code",
   "execution_count": 50,
   "id": "64dabb6c8e6164f3",
   "metadata": {
    "ExecuteTime": {
     "end_time": "2024-12-03T11:36:00.673274Z",
     "start_time": "2024-12-03T11:36:00.638926Z"
    }
   },
   "outputs": [],
   "source": [
    "careu_interior =cv.medianBlur(careu_interior,3)\n",
    "careu_interior = cv.GaussianBlur(careu_interior, (0, 0), 5)\n",
    "careu_interior=cv.addWeighted(careu_interior, 1.5, careu_interior, -0.5, 0)\n",
    "\n",
    "_,tresh = cv.threshold(careu_interior, 80, 255, cv.THRESH_BINARY_INV)\n",
    "matrix = determina_configuratie_careu(tresh,oriz,vert)\n",
    "matrice_pozitii_speciale = matrix.copy()\n",
    "\n",
    "vizualizare_conf(careu_interior,matrix,oriz,vert)"
   ]
  },
  {
   "cell_type": "markdown",
   "id": "2b0bee076442d1dc",
   "metadata": {},
   "source": [
    "# Task 1 si 2\n"
   ]
  },
  {
   "cell_type": "code",
   "execution_count": 51,
   "id": "734fefd7ac6148bc",
   "metadata": {
    "ExecuteTime": {
     "end_time": "2024-12-03T11:36:56.371939Z",
     "start_time": "2024-12-03T11:36:00.732752Z"
    }
   },
   "outputs": [],
   "source": [
    "background = cv.imread(path_backgroud)\n",
    "tabla = extrage_tabla(background)\n",
    "tabla = cv.resize(tabla,(810,810))\n",
    "tabla=extrage_careu_interior(tabla)\n",
    "tablafordiff = tabla.copy()\n",
    "matrice_tabla = [[0 for i in range(15)] for j in range(15)]\n",
    "matrice_tabla[6][6] = 1\n",
    "matrice_tabla[6][7] = 2\n",
    "matrice_tabla[7][6] = 3\n",
    "matrice_tabla[7][7] = 4\n",
    "\n",
    "folder = path_folder_joc\n",
    "folder_destinatie=path_solutie\n",
    "if not os.path.exists(folder_destinatie):\n",
    "    os.makedirs(folder_destinatie)\n",
    "\n",
    "for filename in os.listdir(folder):\n",
    "    #daca este.jpg\n",
    "    if filename.endswith(\".jpg\") :\n",
    "        #extragem pozele\n",
    "        img = cv.imread(os.path.join(folder,filename))\n",
    "        img = cv.resize(img,(810,810))\n",
    "        img = extrage_tabla(img)\n",
    "\n",
    "        careu_interior=extrage_careu_interior(img)\n",
    "        copy_of_image = careu_interior.copy()\n",
    "\n",
    "        x,y,w,h=determina_pozitie_piesa_noua(tablafordiff,careu_interior)\n",
    "        i,j = match_position(x,y,oriz,vert)\n",
    "        piesa= extrage_piesa(i,j,copy_of_image)\n",
    "        cifra= classify_patch(piesa)\n",
    "        # print(cifra)\n",
    "        matrice_tabla[i][j]=int(cifra)\n",
    "        text=str(i+1)+chr(ord('A')+j)+\" \"+cifra+\"\\n\"\n",
    "        # print(filename, \"poz:\",chr(ord('a')+j),i+1)\n",
    "        fisiernou=filename[:4]+\".txt\"\n",
    "\n",
    "        #creaza un fisier cu numele filename.txt in folderul_destinatie\n",
    "\n",
    "        with open(os.path.join(folder_destinatie, fisiernou), \"w\") as f:\n",
    "            f.write(text)\n",
    "            f.close()\n",
    "        if filename.endswith(\"50.jpg\"):\n",
    "            tablafordiff = tabla.copy()\n",
    "        else:\n",
    "            tablafordiff = copy_of_image.copy()\n",
    "\n",
    "\n"
   ]
  },
  {
   "cell_type": "markdown",
   "id": "e896972e435b8cef",
   "metadata": {},
   "source": [
    "# Task 3"
   ]
  },
  {
   "cell_type": "code",
   "execution_count": 52,
   "id": "298ffa2b2d9fdd4a",
   "metadata": {
    "ExecuteTime": {
     "end_time": "2024-12-03T11:36:56.435550Z",
     "start_time": "2024-12-03T11:36:56.404027Z"
    }
   },
   "outputs": [],
   "source": [
    "matrice_tabla = [[0 for i in range(14)] for j in range(14)]\n",
    "matrice_tabla[6][6] = 1\n",
    "matrice_tabla[6][7] = 2\n",
    "matrice_tabla[7][6] = 3\n",
    "matrice_tabla[7][7] = 4\n",
    "\n",
    "conf_speciala=[[1 for i in range(14)] for j in range(14)]\n",
    "conf_speciala[0][0] = 3\n",
    "conf_speciala[0][6] = 3\n",
    "conf_speciala[0][7] = 3\n",
    "conf_speciala[0][13] = 3\n",
    "conf_speciala[6][0] = 3\n",
    "conf_speciala[6][13] = 3\n",
    "conf_speciala[7][0] = 3\n",
    "conf_speciala[7][13] = 3\n",
    "conf_speciala[13][0] = 3\n",
    "conf_speciala[13][6] = 3\n",
    "conf_speciala[13][7] = 3\n",
    "conf_speciala[13][13] = 3\n",
    "\n",
    "conf_speciala[1][1] = 2\n",
    "conf_speciala[2][2] = 2\n",
    "conf_speciala[3][3] = 2\n",
    "conf_speciala[4][4] = 2\n",
    "conf_speciala[9][9] = 2\n",
    "conf_speciala[10][10] = 2\n",
    "conf_speciala[11][11] = 2\n",
    "conf_speciala[12][12] = 2\n",
    "conf_speciala[12][1] = 2\n",
    "conf_speciala[11][2] = 2\n",
    "conf_speciala[10][3] = 2\n",
    "conf_speciala[9][4] = 2\n",
    "conf_speciala[4][9] = 2\n",
    "conf_speciala[3][10] = 2\n",
    "conf_speciala[2][11] = 2\n",
    "conf_speciala[1][12] = 2\n",
    "\n",
    "\n",
    "\n",
    "\n"
   ]
  },
  {
   "cell_type": "code",
   "execution_count": 53,
   "id": "457f338066307229",
   "metadata": {
    "ExecuteTime": {
     "end_time": "2024-12-03T11:36:57.646199Z",
     "start_time": "2024-12-03T11:36:56.466902Z"
    }
   },
   "outputs": [],
   "source": [
    "folder=path_folder_joc\n",
    "folder_destinatie=path_solutie\n",
    "\n",
    "ture=[]\n",
    "moves=[]\n",
    "for filename in os.listdir(folder):\n",
    "    if filename.endswith(\"turns.txt\") :\n",
    "        linie=''\n",
    "        with open(os.path.join(folder, filename), \"r\") as infile:\n",
    "           for line in infile:\n",
    "                player,start= line.strip().split()\n",
    "                ture.append((player,start))\n",
    "        scor = calculeaza_scor(ture,moves,matrice_tabla,conf_speciala)\n",
    "        fisiernou=filename[0]+\"_scores.txt\"\n",
    "        for line in scor:\n",
    "            # print(line)\n",
    "            linie=linie+line[0]+\" \"+line[1]+\" \"+str(line[2])+'\\n'\n",
    "\n",
    "\n",
    "        with open(os.path.join(folder_destinatie, fisiernou), \"w\") as f:\n",
    "            f.write(linie)\n",
    "            f.close()\n",
    "\n",
    "        ture=[]\n",
    "        moves=[]\n",
    "    else:\n",
    "        if filename.endswith(\".jpg\"):\n",
    "            fisier=filename[:4]+\".txt\"\n",
    "            # print(fisier)\n",
    "            with open(os.path.join(folder_destinatie, fisier), \"r\") as infile:\n",
    "                for line in infile:\n",
    "                    moves.append(line.strip())\n",
    "\n",
    "\n",
    "\n"
   ]
  }
 ],
 "metadata": {
  "kernelspec": {
   "display_name": "Python 3 (ipykernel)",
   "language": "python",
   "name": "python3"
  },
  "language_info": {
   "codemirror_mode": {
    "name": "ipython",
    "version": 3
   },
   "file_extension": ".py",
   "mimetype": "text/x-python",
   "name": "python",
   "nbconvert_exporter": "python",
   "pygments_lexer": "ipython3",
   "version": "3.10.11"
  }
 },
 "nbformat": 4,
 "nbformat_minor": 5
}
